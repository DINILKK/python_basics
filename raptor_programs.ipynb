{
  "nbformat": 4,
  "nbformat_minor": 0,
  "metadata": {
    "colab": {
      "provenance": [],
      "toc_visible": true,
      "authorship_tag": "ABX9TyO0kVH3NjbfBmoBZFGqTZFP",
      "include_colab_link": true
    },
    "kernelspec": {
      "name": "python3",
      "display_name": "Python 3"
    },
    "language_info": {
      "name": "python"
    }
  },
  "cells": [
    {
      "cell_type": "markdown",
      "metadata": {
        "id": "view-in-github",
        "colab_type": "text"
      },
      "source": [
        "<a href=\"https://colab.research.google.com/github/DINILKK/python_basics/blob/main/raptor_programs.ipynb\" target=\"_parent\"><img src=\"https://colab.research.google.com/assets/colab-badge.svg\" alt=\"Open In Colab\"/></a>"
      ]
    },
    {
      "cell_type": "code",
      "execution_count": null,
      "metadata": {
        "colab": {
          "base_uri": "https://localhost:8080/"
        },
        "id": "lKQ0KRSntJGs",
        "outputId": "98a08fe8-3436-4de0-a614-4a347dd3f95c"
      },
      "outputs": [
        {
          "output_type": "stream",
          "name": "stdout",
          "text": [
            "enter a two digit number :29\n",
            "2\n"
          ]
        }
      ],
      "source": [
        "#program to find the smallest digit in a two digit number\n",
        "number=int(input(\"enter a two digit number :\"))\n",
        "l=number%10\n",
        "f=number//10\n",
        "if l<f:\n",
        "  print(l)\n",
        "elif f<l:\n",
        "  print(f)\n",
        "\n"
      ]
    },
    {
      "cell_type": "code",
      "source": [
        "#program to calculate the distace between two points\n",
        "p1=int(input('plot a point'))\n",
        "p2=int(input('plot another point'))\n",
        "\n",
        "distance=p2-p1\n",
        "\n",
        "if distance<0:\n",
        "  distance=-1*distance\n",
        "  print(distance)\n",
        "\n",
        "else:\n",
        "  print(distance)\n",
        "\n"
      ],
      "metadata": {
        "id": "ZEFBicIWHZyQ",
        "colab": {
          "base_uri": "https://localhost:8080/"
        },
        "outputId": "1702be85-2998-418a-ebfe-27ffec128190"
      },
      "execution_count": null,
      "outputs": [
        {
          "output_type": "stream",
          "name": "stdout",
          "text": [
            "plot a point5\n",
            "plot another point-1\n",
            "6\n"
          ]
        }
      ]
    },
    {
      "cell_type": "code",
      "source": [
        "#program to find the smallest  among 3 numbers\n",
        "a=int(input(\"enter a number :\"))\n",
        "b=int(input(\"enter another number :\"))\n",
        "c=int(input(\"enter another number :\"))\n",
        "if a<b and a<b:\n",
        "  print(a,\"is the smallest\")\n",
        "elif b<a and b<c:\n",
        "  print(b,\"is the smallest\")\n",
        "else:\n",
        "  print(c,'is the smallest')\n"
      ],
      "metadata": {
        "colab": {
          "base_uri": "https://localhost:8080/"
        },
        "id": "WJnatIAewouk",
        "outputId": "b61695c4-a406-4a01-8b34-0c2877369fe1"
      },
      "execution_count": null,
      "outputs": [
        {
          "output_type": "stream",
          "name": "stdout",
          "text": [
            "enter a nuber :4\n",
            "enter another number :3\n",
            "enter another number :2\n",
            "2 is the smallest\n"
          ]
        }
      ]
    },
    {
      "cell_type": "code",
      "source": [
        "\n",
        "#sum of the factors of a number\n",
        "number=int(input(\"enter a number :\"))\n",
        "sum=0\n",
        "for i in range(1,number):\n",
        "  if number%i==0:\n",
        "    sum=sum+i\n",
        "\n",
        "print(sum)\n"
      ],
      "metadata": {
        "colab": {
          "base_uri": "https://localhost:8080/"
        },
        "id": "8z5ENNKcx1ET",
        "outputId": "a97d1312-aaea-4c58-856b-8a9cddca1c90"
      },
      "execution_count": null,
      "outputs": [
        {
          "output_type": "stream",
          "name": "stdout",
          "text": [
            "enter a number :15\n",
            "9\n"
          ]
        }
      ]
    },
    {
      "cell_type": "code",
      "source": [
        "#program to find largest among three numbers\n",
        "a=int(input(\"enter a number :\"))\n",
        "b=int(input(\"enter another number :\"))\n",
        "c=int(input(\"enter another number :\"))\n",
        "if a>b and a>b:\n",
        "  print(a,\"is the largest\")\n",
        "elif b>a and b>c:\n",
        "  print(b,\"is the largest\")\n",
        "else:\n",
        "  print(c,'is the largest')\n",
        "\n",
        "\n"
      ],
      "metadata": {
        "id": "haKqJeio6seD",
        "colab": {
          "base_uri": "https://localhost:8080/"
        },
        "outputId": "938a3860-78f9-4693-9e08-9c0ee13d4668"
      },
      "execution_count": null,
      "outputs": [
        {
          "output_type": "stream",
          "name": "stdout",
          "text": [
            "enter a number :1\n",
            "enter another number :2\n",
            "enter another number :3\n",
            "3 is the largest145\n"
          ]
        }
      ]
    },
    {
      "cell_type": "code",
      "source": [
        "#factorial of a number\n",
        "a=int(input(\"rnter a number :\"))\n",
        "fact=1\n",
        "for i in range(1,a+1):\n",
        "  fact=fact*i\n",
        "print(\"the facorial of the given number\",a,\"is \" ,fact)\n"
      ],
      "metadata": {
        "colab": {
          "base_uri": "https://localhost:8080/"
        },
        "id": "c96L_0JIQSXV",
        "outputId": "7a9b9620-5643-4c63-851d-12adc6b13f4f"
      },
      "execution_count": null,
      "outputs": [
        {
          "output_type": "stream",
          "name": "stdout",
          "text": [
            "rnter a number :5\n",
            "the facorial of the given number 5 is  120\n"
          ]
        }
      ]
    },
    {
      "cell_type": "code",
      "source": [
        "#primecheck\n",
        "a=int(input(\"enter a number :\"))\n",
        "if a==2:\n",
        "  print(a,'is a prime number')\n",
        "for i in range(2,a):\n",
        "  if a%i==0:\n",
        "    print(a,\"is not a prime number\")\n",
        "    break\n",
        "  else:\n",
        "    print(a,\"is a prime number\")\n",
        "    break"
      ],
      "metadata": {
        "colab": {
          "base_uri": "https://localhost:8080/"
        },
        "id": "zjSmqoE8RL5t",
        "outputId": "a304abc9-99ef-43a8-e5fd-a4b5b17b0c7c"
      },
      "execution_count": null,
      "outputs": [
        {
          "output_type": "stream",
          "name": "stdout",
          "text": [
            "enter a number :13\n",
            "13 is a prime number\n"
          ]
        }
      ]
    },
    {
      "cell_type": "code",
      "source": [
        "#program to produce n number of odd number\n",
        "n=int(input(\"enter number of odd numbers to be produced :\"))\n",
        "for i in range(n):\n",
        "  print(2*i+1)"
      ],
      "metadata": {
        "colab": {
          "base_uri": "https://localhost:8080/"
        },
        "id": "gmw1hq8nTaXs",
        "outputId": "db95a7cc-aae9-43f5-8963-4a7863f3b5a4"
      },
      "execution_count": null,
      "outputs": [
        {
          "output_type": "stream",
          "name": "stdout",
          "text": [
            "enter number of odd numbers to be produced :10\n",
            "1\n",
            "3\n",
            "5\n",
            "7\n",
            "9\n",
            "11\n",
            "13\n",
            "15\n",
            "17\n",
            "19\n"
          ]
        }
      ]
    },
    {
      "cell_type": "code",
      "source": [
        "#program to interchange the values\n",
        "a=int(input(\"enter a number a: \"))\n",
        "b=int(input(\"enter a number b :\"))\n",
        "c=a\n",
        "a=b\n",
        "b=a\n",
        "print(\"\")\n",
        "print(\"after interchanging \")\n",
        "print(\"\")4\n",
        "print(\"a :\",a)\n",
        "print(\"b :\",b)\n"
      ],
      "metadata": {
        "colab": {
          "base_uri": "https://localhost:8080/"
        },
        "id": "IqUEp6JlUMD8",
        "outputId": "02eef67e-e824-4152-d2e6-0106cf3e162c"
      },
      "execution_count": null,
      "outputs": [
        {
          "output_type": "stream",
          "name": "stdout",
          "text": [
            "enter a number a: 3\n",
            "enter a number b :4\n",
            "after interchanging \n",
            "\n",
            "a : 4\n",
            "b : 4\n"
          ]
        }
      ]
    },
    {
      "cell_type": "code",
      "source": [
        "#days into years,months\n",
        "n=int(input(\"enter number of days :\"))\n",
        "years=n//365\n",
        "months=(n%365)//30\n",
        "days=(n%30)\n",
        "print(years,\"years \",months, \" months\",days,\" days\" )"
      ],
      "metadata": {
        "colab": {
          "base_uri": "https://localhost:8080/"
        },
        "id": "kak6xZVMVgME",
        "outputId": "cf5bf014-0c1f-4602-8ead-a0a399188935"
      },
      "execution_count": null,
      "outputs": [
        {
          "output_type": "stream",
          "name": "stdout",
          "text": [
            "enter number of days :1000\n",
            "2 years  9  months 10  days\n"
          ]
        }
      ]
    },
    {
      "cell_type": "code",
      "source": [
        "#seconds into hours ,minutes and sec.\n",
        "a=int(input(\"enter number of seconds :\"))\n",
        "hours=a//3600\n",
        "minutes=(a%3600)//60\n",
        "seconds=a%360\n",
        "print(hours,\"hours \",minutes,\"minutes \",seconds,\"seconds \")\n"
      ],
      "metadata": {
        "colab": {
          "base_uri": "https://localhost:8080/"
        },
        "id": "z_Vww9BGXZaE",
        "outputId": "5eb3e537-fd50-4aa9-dc44-190ff3e76cfe"
      },
      "execution_count": null,
      "outputs": [
        {
          "output_type": "stream",
          "name": "stdout",
          "text": [
            "enter number of seconds :38373\n",
            "10 hours  39 minutes  213 seconds \n"
          ]
        }
      ]
    },
    {
      "cell_type": "code",
      "source": [
        "#sum of n natural numberes\n",
        "n=int(input(\" enter number of number :\"))\n",
        "sum=0\n",
        "for i in range(n+1):\n",
        "  sum=sum+i\n",
        "print(\"the sum of n natural numbers are :\",sum)"
      ],
      "metadata": {
        "colab": {
          "base_uri": "https://localhost:8080/"
        },
        "id": "RVvQFQPgYl6L",
        "outputId": "123814bb-505e-4d75-bf80-4953103ba8c1"
      },
      "execution_count": null,
      "outputs": [
        {
          "output_type": "stream",
          "name": "stdout",
          "text": [
            " enter number of number :10\n",
            "the sum of n natural numbers are : 55\n"
          ]
        }
      ]
    },
    {
      "cell_type": "code",
      "source": [
        " #check if the number is two digit or not\n",
        " n=int(input(\"enter a number :\"))\n",
        " if n>9 and n<99:\n",
        "   print(\"the given number\",n,\"is a two digit number\")\n",
        " else:\n",
        "  \n",
        "    print(\"the given number is not a two digit\")\n"
      ],
      "metadata": {
        "colab": {
          "base_uri": "https://localhost:8080/"
        },
        "id": "-xrrxG7XZ_CM",
        "outputId": "b4fe977a-a4e7-4ab3-d1e6-3fa68a192a3d"
      },
      "execution_count": null,
      "outputs": [
        {
          "output_type": "stream",
          "name": "stdout",
          "text": [
            "enter a number :11\n",
            "the given number 11 is a two digit number\n"
          ]
        }
      ]
    },
    {
      "cell_type": "code",
      "source": [
        "#whether a number is palindrome\n",
        "num1=int(input(\"enter a number :\"))\n",
        "pal=num1\n",
        "num2=0\n",
        "while num1>0:\n",
        "  num2=num2*10+(num1%10)\n",
        "  num1=num1//10\n",
        "\n",
        "if num2==pal:\n",
        "  print(\"the given number is a palindrome\")\n",
        "else:\n",
        "  print(\"the given number is not a palindrome\")\n",
        "  "
      ],
      "metadata": {
        "id": "ltrKvoY0bwVL",
        "colab": {
          "base_uri": "https://localhost:8080/"
        },
        "outputId": "2f268cc5-d02a-47b5-ec76-d9c512b94cc8"
      },
      "execution_count": null,
      "outputs": [
        {
          "output_type": "stream",
          "name": "stdout",
          "text": [
            "enter a number :121\n",
            "the given number is a palindrome\n"
          ]
        }
      ]
    },
    {
      "cell_type": "code",
      "source": [
        "#program to check if the given number is armstrong or not.\n",
        "num1=int(input('enter a number :'))\n",
        "count=0\n",
        "num2=0\n",
        "num3=num1\n",
        "\n",
        "while num1>0:\n",
        "  num1=num1//10\n",
        "  count=count+1\n",
        "\n",
        "num1=num3\n",
        "\n",
        "while num1>0:\n",
        "  r=(num1%10)\n",
        "  num2=num2+r**count\n",
        "  num1=(num1//10)\n",
        "\n",
        "num1=num3\n",
        "\n",
        "if num2==num1:\n",
        "  print(\"its an armstrong number !!!\")\n",
        "\n",
        "else:\n",
        "  print('its not')\n",
        "\n",
        "  \n"
      ],
      "metadata": {
        "colab": {
          "base_uri": "https://localhost:8080/"
        },
        "id": "CQF5gHloKpj3",
        "outputId": "cf712f7a-ebef-4993-b281-2148bb35b786"
      },
      "execution_count": null,
      "outputs": [
        {
          "output_type": "stream",
          "name": "stdout",
          "text": [
            "enter a number :122\n",
            "its not\n"
          ]
        }
      ]
    },
    {
      "cell_type": "code",
      "source": [
        "#To convert binary to  decimal\n",
        "num1=int(input('enter a binary number :'))\n",
        "num2=0\n",
        "i=1\n",
        "\n",
        "while num1!=0:\n",
        "  rem=num1%10\n",
        "  num2=num2+(rem*i)\n",
        "  i=i*2\n",
        "  num1=num1//10\n",
        "\n",
        "print(\"the decimal value for the given number is :\",num2)\n"
      ],
      "metadata": {
        "colab": {
          "base_uri": "https://localhost:8080/"
        },
        "id": "qEdW9ZLiII7J",
        "outputId": "fa22020b-0e4a-4495-b60b-f1c1ad7c83c2"
      },
      "execution_count": null,
      "outputs": [
        {
          "output_type": "stream",
          "name": "stdout",
          "text": [
            "enter a binary number :101010100101\n",
            "the decimal value for the given number is : 2725\n"
          ]
        }
      ]
    },
    {
      "cell_type": "code",
      "source": [
        "#program to check if a number is automophic\n",
        "num1=int(input('enter a number :'))\n",
        "i=0\n",
        "num2=num1\n",
        "sq=num2*2\n",
        "\n",
        "while num2>0:\n",
        "  num2=num2//10\n",
        "  i=i+1\n",
        "  \n"
      ],
      "metadata": {
        "id": "qW_znpS3Kt5i"
      },
      "execution_count": null,
      "outputs": []
    },
    {
      "cell_type": "code",
      "source": [
        "#program to the HCF of two number\n",
        "num1=int(input('enter a number :'))\n",
        "num2=int(input('enter another number :'))\n",
        "\n",
        "if num1<num2:\n",
        "  for i in range(1,(num2//2)+1):\n",
        "    if num1%i==0 and num2%i==0:\n",
        "      hcf=i\n",
        "\n",
        "else:\n",
        "   for i in range(1,(num1//2)+1):\n",
        "    if num1%i==0 and num2%i==0:\n",
        "      hcf=i\n",
        "\n",
        "\n",
        "print(hcf)\n",
        "\n",
        "\n"
      ],
      "metadata": {
        "colab": {
          "base_uri": "https://localhost:8080/"
        },
        "id": "UBdKPj-2FF2x",
        "outputId": "212f7222-d0fb-4486-939b-529196340af4"
      },
      "execution_count": null,
      "outputs": [
        {
          "output_type": "stream",
          "name": "stdout",
          "text": [
            "enter a number :48\n",
            "enter another number :72\n",
            "24\n"
          ]
        }
      ]
    },
    {
      "cell_type": "code",
      "source": [
        "# Program to display the Fibonacci sequence\n",
        "n=int(input(\"How many terms? \"))\n",
        "n1, n2 = 0, 1\n",
        "count = 0\n",
        "\n",
        "if n<=0:\n",
        "   print(\"Please enter a positive integer\")\n",
        "elif n==1:\n",
        "   print(\"Fibonacci sequence\",n,\":\")\n",
        "   print(n1)\n",
        "else:\n",
        "   print(\"Fibonacci sequence:\")\n",
        "   while count<n:\n",
        "       print(n1)\n",
        "       nth=n1+n2\n",
        "       n1=n2\n",
        "       n2=nth\n",
        "       count+=1\n"
      ],
      "metadata": {
        "colab": {
          "base_uri": "https://localhost:8080/"
        },
        "id": "rAYtiit-Qa1j",
        "outputId": "58cac3f0-aa10-4b60-d473-32cdf01cc4a7"
      },
      "execution_count": null,
      "outputs": [
        {
          "output_type": "stream",
          "name": "stdout",
          "text": [
            "How many terms? 5\n",
            "Fibonacci sequence:\n",
            "0\n",
            "1\n",
            "1\n",
            "2\n",
            "3\n"
          ]
        }
      ]
    },
    {
      "cell_type": "code",
      "source": [
        "#reverse of a number\n",
        "num1=int(input('enter a number :'))\n",
        "rev_num1=0\n",
        "\n",
        "while num1>0:\n",
        "  rev_num1=rev_num1*10+(num1%10)\n",
        "  num1=num1//10\n",
        "\n",
        "print('there reverse of the given number',rev_num1)\n"
      ],
      "metadata": {
        "colab": {
          "base_uri": "https://localhost:8080/"
        },
        "id": "6GL-r3I1Rdai",
        "outputId": "d532a1f9-7091-42a5-fa27-936c55808a8e"
      },
      "execution_count": null,
      "outputs": [
        {
          "output_type": "stream",
          "name": "stdout",
          "text": [
            "enter a number :1234\n",
            "4321\n",
            "\n"
          ]
        }
      ]
    },
    {
      "cell_type": "code",
      "source": [
        "#arithematic series\n",
        "f_term=int(input('enter first term of the series :'))\n",
        "C_diff=int(input('enter common of the series :'))\n",
        "n_term=int(input('enter number of terms to be produced :'))\n",
        "\n",
        "for i in range(n_term):\n",
        "  print(f_term)\n",
        "  f_term=f_term+C_diff"
      ],
      "metadata": {
        "colab": {
          "base_uri": "https://localhost:8080/"
        },
        "id": "-BA58wg8UOYa",
        "outputId": "0511c834-7347-476b-f694-8a55610cac1a"
      },
      "execution_count": null,
      "outputs": [
        {
          "output_type": "stream",
          "name": "stdout",
          "text": [
            "enter first term of the series :3\n",
            "enter common of the series :3\n",
            "enter number of terms to be produced :10\n",
            "3\n",
            "6\n",
            "9\n",
            "12\n",
            "15\n",
            "18\n",
            "21\n",
            "24\n",
            "27\n",
            "30\n"
          ]
        }
      ]
    },
    {
      "cell_type": "code",
      "source": [
        "#Program to produce squares of number between two numbers.\n",
        "l_limit=int(input('enter lower limit :'))\n",
        "u_limit=int(input('enter upper limit '))\n",
        "\n",
        "for i in range(l_limit,u_limit+1):\n",
        "  print(i**2)\n",
        "\n"
      ],
      "metadata": {
        "colab": {
          "base_uri": "https://localhost:8080/"
        },
        "id": "8-3zCKqoeW-i",
        "outputId": "fbda9225-8540-4008-bfb7-adaa97ec2165"
      },
      "execution_count": null,
      "outputs": [
        {
          "output_type": "stream",
          "name": "stdout",
          "text": [
            "enter lower limit :3\n",
            "enter upper limit 10\n",
            "9\n",
            "16\n",
            "25\n",
            "36\n",
            "49\n",
            "64\n",
            "81\n",
            "100\n"
          ]
        }
      ]
    },
    {
      "cell_type": "code",
      "source": [
        "#find the exponential \n",
        "base=int(input('enter the base value :'))\n",
        "power=int(input('enter the power :'))\n",
        "for i in range(power+1):\n",
        "  exp_value=base**i\n",
        "\n",
        "print(exp_value)\n",
        "\n"
      ],
      "metadata": {
        "colab": {
          "base_uri": "https://localhost:8080/"
        },
        "id": "BMA9GKOdf3by",
        "outputId": "79de030d-b79c-4e91-e416-baf270c92230"
      },
      "execution_count": null,
      "outputs": [
        {
          "output_type": "stream",
          "name": "stdout",
          "text": [
            "enter the base value :2\n",
            "enter the power :4\n",
            "16\n"
          ]
        }
      ]
    },
    {
      "cell_type": "code",
      "source": [
        "#to check a number is negative or positve or zero\n",
        "num=int(input('enter a number :'))\n",
        "if num==0:\n",
        "  print('it is zero')\n",
        "elif num>0:\n",
        "  print('it is positive')\n",
        "else:\n",
        "  print('its a negative')\n",
        "\n",
        "  "
      ],
      "metadata": {
        "colab": {
          "base_uri": "https://localhost:8080/"
        },
        "id": "mLzYh19Roqh7",
        "outputId": "46b07a3e-fd93-4f90-e9af-a7f799c31444"
      },
      "execution_count": null,
      "outputs": [
        {
          "output_type": "stream",
          "name": "stdout",
          "text": [
            "enter a number :67\n",
            "it is positive\n"
          ]
        }
      ]
    },
    {
      "cell_type": "code",
      "source": [
        "#program to find the average of three numbers\n",
        "num1=int(input('enter a number :'))\n",
        "num2=int(input('enter another number :'))\n",
        "num3=int(input('enter another number :'))\n",
        "sum=(num1+num2+num3)\n",
        "print('the average the given three numbers are',sum/3)\n",
        "\n"
      ],
      "metadata": {
        "id": "-gzhwdVon3Wh",
        "colab": {
          "base_uri": "https://localhost:8080/"
        },
        "outputId": "c1dddae4-a001-4362-dc3b-dc0aff4a0c46"
      },
      "execution_count": null,
      "outputs": [
        {
          "output_type": "stream",
          "name": "stdout",
          "text": [
            "enter a number :2\n",
            "enter another number :23\n",
            "enter another number :22\n",
            "the average the given three numbers are 15.666666666666666\n"
          ]
        }
      ]
    },
    {
      "cell_type": "code",
      "source": [
        "#program to the area of circle\n",
        "r=int(input('enter the radius of the circle :'))\n",
        "pi=3.14\n",
        "print('area of the circle is',pi*(r**2))"
      ],
      "metadata": {
        "colab": {
          "base_uri": "https://localhost:8080/"
        },
        "id": "Kkafy_pMNKA-",
        "outputId": "034e08ad-8e1a-4fb7-de72-ab14bbaddeaf"
      },
      "execution_count": null,
      "outputs": [
        {
          "output_type": "stream",
          "name": "stdout",
          "text": [
            "enter the radius of the circle :3\n",
            "area of the circle is 28.26\n"
          ]
        }
      ]
    },
    {
      "cell_type": "code",
      "source": [
        "#program to find the area of triangle\n",
        "import math\n",
        "side1=int(input('enter side of nthe triangle :'))\n",
        "side2=int(input('enter another side of a triangle :'))\n",
        "side3=int(input('enter another side of a triangle :'))\n",
        "s=(side1+side2+side3)/2\n",
        "area=math.sqrt(s*(s-side1)*(s-side2)*(s-side34))\n",
        "print('area of triangle is' ,area)\n",
        "\n",
        "\n"
      ],
      "metadata": {
        "id": "u0Pp3MtLOdHN",
        "colab": {
          "base_uri": "https://localhost:8080/"
        },
        "outputId": "c9773eb1-5d37-4f2a-80f9-a0af74c897bc"
      },
      "execution_count": 3,
      "outputs": [
        {
          "output_type": "stream",
          "name": "stdout",
          "text": [
            "enter side of nthe triangle :2\n",
            "enter another side of a triangle :3\n",
            "enter another side of a triangle :4\n",
            "area of triangle is 2.9047375096555625\n"
          ]
        }
      ]
    },
    {
      "cell_type": "code",
      "source": [],
      "metadata": {
        "id": "1GIWRIBIh9TH"
      },
      "execution_count": null,
      "outputs": []
    }
  ]
}